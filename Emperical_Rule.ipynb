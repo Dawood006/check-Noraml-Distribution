{
 "cells": [
  {
   "cell_type": "code",
   "execution_count": 1,
   "id": "61367053-c208-45f9-8b1a-5c4606045651",
   "metadata": {},
   "outputs": [
    {
     "name": "stdout",
     "output_type": "stream",
     "text": [
      "Mean: 50.089303628453344, Standard Deviation: 5.125931772576895\n",
      "Percentage within 1 standard deviation (44.96 to 55.22): 68.20%\n",
      "Percentage within 2 standard deviations (39.84 to 60.34): 96.20%\n",
      "Percentage within 3 standard deviations (34.71 to 65.47): 99.80%\n",
      "The data likely follows a normal distribution (according to the Empirical Rule).\n"
     ]
    }
   ],
   "source": [
    "import numpy as np\n",
    "\n",
    "def check_empirical_rule(data):\n",
    "    \n",
    "    mean = np.mean(data)\n",
    "    std_dev = np.std(data)\n",
    "    \n",
    "    \n",
    "    range_1_std = (mean - std_dev, mean + std_dev)\n",
    "    range_2_std = (mean - 2 * std_dev, mean + 2 * std_dev)\n",
    "    range_3_std = (mean - 3 * std_dev, mean + 3 * std_dev)\n",
    "    \n",
    "    \n",
    "    count_1_std = np.sum((data >= range_1_std[0]) & (data <= range_1_std[1]))\n",
    "    count_2_std = np.sum((data >= range_2_std[0]) & (data <= range_2_std[1]))\n",
    "    count_3_std = np.sum((data >= range_3_std[0]) & (data <= range_3_std[1]))\n",
    "    \n",
    "    \n",
    "    total_count = len(data)\n",
    "    percentage_1_std = (count_1_std / total_count) * 100\n",
    "    percentage_2_std = (count_2_std / total_count) * 100\n",
    "    percentage_3_std = (count_3_std / total_count) * 100\n",
    "    \n",
    "    \n",
    "    print(f\"Mean: {mean}, Standard Deviation: {std_dev}\")\n",
    "    print(f\"Percentage within 1 standard deviation ({range_1_std[0]:.2f} to {range_1_std[1]:.2f}): {percentage_1_std:.2f}%\")\n",
    "    print(f\"Percentage within 2 standard deviations ({range_2_std[0]:.2f} to {range_2_std[1]:.2f}): {percentage_2_std:.2f}%\")\n",
    "    print(f\"Percentage within 3 standard deviations ({range_3_std[0]:.2f} to {range_3_std[1]:.2f}): {percentage_3_std:.2f}%\")\n",
    "\n",
    "    \n",
    "    if (68 - 5) <= percentage_1_std <= (68 + 5) and \\\n",
    "       (95 - 5) <= percentage_2_std <= (95 + 5) and \\\n",
    "       (99.7 - 5) <= percentage_3_std <= (99.7 + 5):\n",
    "        print(\"The data likely follows a normal distribution (according to the Empirical Rule).\")\n",
    "    else:\n",
    "        print(\"The data does not follow a normal distribution (according to the Empirical Rule).\")\n",
    "\n",
    "\n",
    "data = np.random.normal(50, 5, 1000) \n",
    "check_empirical_rule(data)\n"
   ]
  }
 ],
 "metadata": {
  "kernelspec": {
   "display_name": "Python 3 (ipykernel)",
   "language": "python",
   "name": "python3"
  },
  "language_info": {
   "codemirror_mode": {
    "name": "ipython",
    "version": 3
   },
   "file_extension": ".py",
   "mimetype": "text/x-python",
   "name": "python",
   "nbconvert_exporter": "python",
   "pygments_lexer": "ipython3",
   "version": "3.12.5"
  }
 },
 "nbformat": 4,
 "nbformat_minor": 5
}
