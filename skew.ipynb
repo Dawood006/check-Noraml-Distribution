{
 "cells": [
  {
   "cell_type": "code",
   "execution_count": 23,
   "id": "a5208332-d67b-45d3-bba6-fcf0addff9b9",
   "metadata": {},
   "outputs": [
    {
     "name": "stdout",
     "output_type": "stream",
     "text": [
      "0 is perfect for normal ditribution maximun should be 0.5 minimum should be -0.5\n"
     ]
    },
    {
     "data": {
      "text/plain": [
       "(0.009511129045171365, None)"
      ]
     },
     "execution_count": 23,
     "metadata": {},
     "output_type": "execute_result"
    }
   ],
   "source": [
    "import numpy as np\n",
    "a=np.random.normal(50,5,size=(10000))\n",
    "mean=np.mean(a)\n",
    "std=np.std(a)\n",
    "n=len(a)\n",
    "skewness = (1/n) * np.sum(((a - mean) / std) ** 3)\n",
    "skewness,print(\"0 is perfect for normal ditribution maximun should be 0.5 minimum should be -0.5\")"
   ]
  },
  {
   "cell_type": "markdown",
   "id": "9f614220-a565-4bc8-a86b-114a72edd5c2",
   "metadata": {},
   "source": [
    "### or else can use inbuilt function skew import from scipy.stats"
   ]
  }
 ],
 "metadata": {
  "kernelspec": {
   "display_name": "Python 3 (ipykernel)",
   "language": "python",
   "name": "python3"
  },
  "language_info": {
   "codemirror_mode": {
    "name": "ipython",
    "version": 3
   },
   "file_extension": ".py",
   "mimetype": "text/x-python",
   "name": "python",
   "nbconvert_exporter": "python",
   "pygments_lexer": "ipython3",
   "version": "3.12.5"
  }
 },
 "nbformat": 4,
 "nbformat_minor": 5
}
