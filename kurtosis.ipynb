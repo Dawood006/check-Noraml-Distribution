{
 "cells": [
  {
   "cell_type": "code",
   "execution_count": 15,
   "id": "55c7edeb-9c7c-444e-a1c8-394bcb4d738f",
   "metadata": {},
   "outputs": [
    {
     "data": {
      "text/plain": [
       "0.019877621314701166"
      ]
     },
     "execution_count": 15,
     "metadata": {},
     "output_type": "execute_result"
    }
   ],
   "source": [
    "import numpy as np\n",
    "a=np.random.normal(50,5,size=(10000))\n",
    "mean=np.mean(a)\n",
    "std=np.std(a)\n",
    "n=len(a)\n",
    "kurt=1/n*np.sum(((a-mean)/std)**4)-3\n",
    "kurt,print(\"for normal distribution Kurtosis should be ZERO()\")"
   ]
  }
 ],
 "metadata": {
  "kernelspec": {
   "display_name": "Python 3 (ipykernel)",
   "language": "python",
   "name": "python3"
  },
  "language_info": {
   "codemirror_mode": {
    "name": "ipython",
    "version": 3
   },
   "file_extension": ".py",
   "mimetype": "text/x-python",
   "name": "python",
   "nbconvert_exporter": "python",
   "pygments_lexer": "ipython3",
   "version": "3.12.5"
  }
 },
 "nbformat": 4,
 "nbformat_minor": 5
}
